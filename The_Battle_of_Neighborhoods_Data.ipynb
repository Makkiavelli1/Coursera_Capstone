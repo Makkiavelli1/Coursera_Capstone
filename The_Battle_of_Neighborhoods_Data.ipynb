{
 "cells": [
  {
   "cell_type": "markdown",
   "metadata": {},
   "source": [
    "# The Battle of Neighbourhoods"
   ]
  },
  {
   "cell_type": "markdown",
   "metadata": {},
   "source": [
    "## Data"
   ]
  },
  {
   "cell_type": "markdown",
   "metadata": {},
   "source": [
    "### Most populous cities in the UK"
   ]
  },
  {
   "cell_type": "markdown",
   "metadata": {},
   "source": [
    "For this project, I started by scraping the webpage https://www.thegeographist.com/uk-cities-population-1000/ to obtain a dataframe with the 25 most populous cities in the UK and their respective population. Then, I obtained the latitude and longitude of each city using the geopy library (https://geopy.readthedocs.io/en/stable/). "
   ]
  },
  {
   "cell_type": "markdown",
   "metadata": {},
   "source": [
    "### Most popular sport venue types in each city"
   ]
  },
  {
   "cell_type": "markdown",
   "metadata": {},
   "source": [
    "I characterised the sport trend in each city using the location technology platform Foursquare (https://foursquare.com/ ). I searched for the following categories within a radius of 10 km from the city centre:  badminton courts, baseball fields, basketball courts, golf courses, boxing gyms, climbing gyms, gymnastics gyms, martial arts dojos, pilates studios, yoga studios, hockey fields and rinks, rugby pitches, skate parks, skating rinks, soccer fields, squash courts, tennis courts, and volleyball courts. Then, I calculated the top ten categories within each city, and used this feature to cluster the cities."
   ]
  }
 ],
 "metadata": {
  "kernelspec": {
   "display_name": "Python",
   "language": "python",
   "name": "conda-env-python-py"
  },
  "language_info": {
   "codemirror_mode": {
    "name": "ipython",
    "version": 3
   },
   "file_extension": ".py",
   "mimetype": "text/x-python",
   "name": "python",
   "nbconvert_exporter": "python",
   "pygments_lexer": "ipython3",
   "version": "3.6.12"
  }
 },
 "nbformat": 4,
 "nbformat_minor": 4
}
