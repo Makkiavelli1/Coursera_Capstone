{
 "cells": [
  {
   "cell_type": "markdown",
   "metadata": {},
   "source": [
    "# The Battle of Neighbourhoods"
   ]
  },
  {
   "cell_type": "markdown",
   "metadata": {},
   "source": [
    "## Introduction"
   ]
  },
  {
   "cell_type": "markdown",
   "metadata": {},
   "source": [
    "Despite the increasing trend towards online shopping, high-street stores can still be highly profitable. In particular, stores that sell sport clothes and accessories are still important because customers often require specific advice on products, which  cannot be always obtained online, and because they may want to try the product before buying it. However, it can take a lot of time and efforts for store managers to gain knowledge about specific sports and learn about the best products to sell sufficiently to be competitive. Therefore, if a store owner wants to open a new store in a new city, she/he should find a city with a demand similar to that in the city where he currently has a store so that he does not need to change its product range significantly and maintains its knowledge relevant.\n",
    "\n",
    "In this project, I have clustered the 25 most populous cities in the UK based on their top ten sport venue categories, e.g., basketball, tennis, and volleyball courts, using k-means clustering. I have assumed that the demand for sport products follows the availability of sports venues; for example, if there are many tennis courts and zero football pitches in a city, there will probably be higher demand for tennis rackets and balls than for football shoes. The results of this project would be useful for a sport shop owner to know in which city/cities there is a sport product demand similar to that/those in which he currently has stores. "
   ]
  }
 ],
 "metadata": {
  "kernelspec": {
   "display_name": "Python",
   "language": "python",
   "name": "conda-env-python-py"
  },
  "language_info": {
   "codemirror_mode": {
    "name": "ipython",
    "version": 3
   },
   "file_extension": ".py",
   "mimetype": "text/x-python",
   "name": "python",
   "nbconvert_exporter": "python",
   "pygments_lexer": "ipython3",
   "version": "3.6.12"
  }
 },
 "nbformat": 4,
 "nbformat_minor": 4
}
